{
 "cells": [
  {
   "cell_type": "code",
   "execution_count": 1,
   "metadata": {},
   "outputs": [],
   "source": [
    "import os\n",
    "import pickle\n",
    "from skimage.io import imread\n",
    "from skimage.transform import resize\n",
    "from sklearn.model_selection import train_test_split\n",
    "from sklearn.model_selection import GridSearchCV\n",
    "from sklearn.svm import SVC\n",
    "from sklearn.metrics import accuracy_score\n",
    "import dask.array as da\n"
   ]
  },
  {
   "cell_type": "code",
   "execution_count": 2,
   "metadata": {},
   "outputs": [],
   "source": [
    "# Prepare the data\n",
    "# change directory to one folder before the categorized folders\n",
    "input_dir = \"g:\\EKG DATA\"\n",
    "categories = ['ekg_norm_png', 'ekg_abnorm_png']\n",
    "data = []\n",
    "labels = []\n",
    "for category_idx, category in enumerate(categories):\n",
    "    for file in os.listdir(os.path.join(input_dir, category)):\n",
    "        img_path = os.path.join(input_dir, category, file)\n",
    "        img = imread(img_path)\n",
    "        # Resize images in folders\n",
    "        #img = resize(img, (15, 15))\n",
    "        # you want to make this into uni-dementional array not a matrix\n",
    "        data.append(img.flatten())\n",
    "        labels.append(category_idx)\n",
    "data = da.asarray(data)\n",
    "labels = da.asarray(labels)"
   ]
  },
  {
   "cell_type": "code",
   "execution_count": 3,
   "metadata": {},
   "outputs": [],
   "source": [
    "# Train / Test Data\n",
    "    # \"test_size = .2\" 20% are the testing set\n",
    "    # shuffle = TRUE to remove as much bias as possible when creating array\n",
    "    # stratify = labels keeping same proportion of dataset (same proportion of healthy and unhealthy individuals)\n",
    "X_train, X_test, y_train, y_test = train_test_split(data, labels,\n",
    "                                                   test_size = 0.2,\n",
    "                                                   shuffle = True,\n",
    "                                                   stratify = labels)"
   ]
  },
  {
   "cell_type": "code",
   "execution_count": 4,
   "metadata": {},
   "outputs": [],
   "source": [
    "# Train Classifier\n",
    "    # when you import make sure it is SVC in all caps\n",
    "classifier = SVC()\n",
    "# you want to train many classifiers as many combinations of C and gamma (12 classifiers) then you want to choose which one classisfes images the best\n",
    "parameters = [{'gamma': [0.01],\n",
    "            'C': [10]}]\n",
    "grid_search = GridSearchCV(classifier, parameters)\n",
    "grid_search.fit(X_train, y_train)\n",
    "\"\"\"  \"\"\"\n"
   ]
  },
  {
   "cell_type": "code",
   "execution_count": null,
   "metadata": {},
   "outputs": [
    {
     "ename": "AttributeError",
     "evalue": "'GridSearchCV' object has no attribute 'best_estimator_'",
     "output_type": "error",
     "traceback": [
      "\u001b[1;31m---------------------------------------------------------------------------\u001b[0m",
      "\u001b[1;31mAttributeError\u001b[0m                            Traceback (most recent call last)",
      "Cell \u001b[1;32mIn[7], line 2\u001b[0m\n\u001b[0;32m      1\u001b[0m \u001b[38;5;66;03m# Test performance\u001b[39;00m\n\u001b[1;32m----> 2\u001b[0m best_estimator \u001b[38;5;241m=\u001b[39m grid_search\u001b[38;5;241m.\u001b[39mbest_estimator_\n\u001b[0;32m      3\u001b[0m y_prediction \u001b[38;5;241m=\u001b[39m best_estimator\u001b[38;5;241m.\u001b[39mpredict(X_test)\n\u001b[0;32m      4\u001b[0m score \u001b[38;5;241m=\u001b[39m accuracy_score(y_prediction, y_test)\n",
      "\u001b[1;31mAttributeError\u001b[0m: 'GridSearchCV' object has no attribute 'best_estimator_'"
     ]
    }
   ],
   "source": [
    "\n",
    "# Test performance\n",
    "best_estimator = grid_search.best_estimator_\n",
    "y_prediction = best_estimator.predict(X_test)\n",
    "score = accuracy_score(y_prediction, y_test)\n",
    "print('{}% of samples were correctly classifed'.format(str(score * 100)))"
   ]
  }
 ],
 "metadata": {
  "kernelspec": {
   "display_name": "Python 3 (ipykernel)",
   "language": "python",
   "name": "python3"
  },
  "language_info": {
   "codemirror_mode": {
    "name": "ipython",
    "version": 3
   },
   "file_extension": ".py",
   "mimetype": "text/x-python",
   "name": "python",
   "nbconvert_exporter": "python",
   "pygments_lexer": "ipython3",
   "version": "3.11.4"
  }
 },
 "nbformat": 4,
 "nbformat_minor": 2
}
